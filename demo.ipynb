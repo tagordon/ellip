{
 "cells": [
  {
   "cell_type": "code",
   "execution_count": 1,
   "id": "b0707006-9754-47e7-b3de-33bf8a2268ba",
   "metadata": {},
   "outputs": [],
   "source": [
    "import jax\n",
    "jax.config.update(\"jax_enable_x64\", True)\n",
    "from bulirsch import * \n",
    "from scipy.special import ellipe, ellipk\n",
    "import matplotlib.pyplot as plt\n",
    "import numpy as np\n",
    "from scipy.integrate import quad"
   ]
  },
  {
   "cell_type": "code",
   "execution_count": null,
   "id": "1497fb69-9452-45d5-b270-9d0a837464ae",
   "metadata": {},
   "outputs": [],
   "source": [
    "def el1_numerical(x, kc):\n",
    "\n",
    "    func = lambda y: np.sqrt(1 / (np.cos(y)**2 + kc**2 * np.sin(y)**2))\n",
    "    return quad(func, 0, np.arctan(x))[0]\n",
    "\n",
    "x = np.linspace(-5, 5, 100)\n",
    "plt.plot(x, np.vectorize(el1_numerical)(x, 0.2), '-', alpha=0.5, linewidth=5)\n",
    "plt.plot(x, el1(x, 0.2), 'k--')\n",
    "\n",
    "plt.figure()\n",
    "kc = np.linspace(0.01, 2, 100)\n",
    "plt.plot(x, np.vectorize(el1_numerical)(0.1, kc), '-', alpha=0.5, linewidth=5)\n",
    "plt.plot(x, el1(0.1, kc), 'k--')"
   ]
  },
  {
   "cell_type": "code",
   "execution_count": null,
   "id": "105ef545-334d-427f-b22f-79203de7253b",
   "metadata": {},
   "outputs": [],
   "source": [
    "def el2_numerical(x, kc, a, b):\n",
    "\n",
    "    func = lambda y: ((a + b * np.tan(y)**2) \n",
    "                      / jnp.sqrt(\n",
    "                          (1 + np.tan(y)**2) \n",
    "                          * (1 + kc**2 * np.tan(y)**2)\n",
    "                      )\n",
    "                     )\n",
    "    \n",
    "    return quad(func, 0, np.arctan(x))[0]\n",
    "\n",
    "x = np.linspace(-5, 5, 100)\n",
    "plt.plot(x, np.vectorize(el2_numerical)(x, 0.2, 0.1, 0.5), '-', alpha=0.5, linewidth=5)\n",
    "plt.plot(x, el2(x, 0.2, 0.1, 0.5), 'k--')\n",
    "\n",
    "plt.figure()\n",
    "kc = np.linspace(0.01, 2, 100)\n",
    "plt.plot(x, np.vectorize(el2_numerical)(0.1, kc, 0.1, 0.5), '-', alpha=0.5, linewidth=5)\n",
    "plt.plot(x, el2(0.1, kc, 0.1, 0.5), 'k--')"
   ]
  },
  {
   "cell_type": "code",
   "execution_count": null,
   "id": "fd024714-5ddd-4835-8136-158b61032264",
   "metadata": {},
   "outputs": [],
   "source": [
    "def el3_numerical(x, kc, p):\n",
    "\n",
    "    func = lambda y: (\n",
    "        1 / (np.cos(y)**2 + p * np.sin(y)**2) \n",
    "        / np.sqrt(np.cos(y)**2 + kc * kc * np.sin(y)**2)\n",
    "    )\n",
    "    \n",
    "    return quad(func, 0, np.arctan(x))[0]\n",
    "\n",
    "x = np.linspace(-5, 5, 100)\n",
    "plt.plot(x, np.vectorize(el3_numerical)(x, 0.2, 0.1), '-', alpha=0.5, linewidth=5)\n",
    "plt.plot(x, el3(x, 0.2, 0.1), 'k--')\n",
    "\n",
    "plt.figure()\n",
    "kc = np.linspace(0.01, 2, 100)\n",
    "plt.plot(x, np.vectorize(el3_numerical)(0.1, kc, 0.1), '-', alpha=0.5, linewidth=5)\n",
    "plt.plot(x, el3(0.1, kc, 0.1), 'k--')"
   ]
  },
  {
   "cell_type": "code",
   "execution_count": null,
   "id": "85f1581a-5f66-43f6-ad64-b4016966db62",
   "metadata": {},
   "outputs": [],
   "source": [
    "def cel_numerical(kc, p, a, b):\n",
    "\n",
    "    func = lambda y: (\n",
    "        (a * np.cos(y)**2 + b * np.sin(y)**2) / (np.cos(y)**2 + p * np.sin(y)**2)\n",
    "        / np.sqrt(np.cos(y)**2 + kc**2 * np.sin(y)**2)\n",
    "    )\n",
    "\n",
    "    return quad(func, 0, np.pi / 2)[0]\n",
    "\n",
    "x = np.linspace(-5, 5, 100)\n",
    "plt.plot(x, np.vectorize(cel_numerical)(x, 0.2, 0.1, 0.5), '-', alpha=0.5, linewidth=5)\n",
    "plt.plot(x, cel(x, 0.2, 0.1, 0.5), 'k--')\n",
    "\n",
    "plt.figure()\n",
    "kc = np.linspace(0, 2, 100)\n",
    "plt.plot(kc, np.vectorize(cel_numerical)(0.1, kc, 0.1, 0.5), '-', alpha=0.5, linewidth=5)\n",
    "plt.plot(kc, cel(0.1, kc, 0.1, 0.5), 'k--')"
   ]
  },
  {
   "cell_type": "code",
   "execution_count": null,
   "id": "ea885907-e9c0-4539-a6c8-9215c22a5a2e",
   "metadata": {},
   "outputs": [],
   "source": [
    "x = np.linspace(-5, 5, 5000)\n",
    "%timeit elliprc(x, 0.2)\n",
    "rc(x, 0.2)\n",
    "%timeit rc(x, 0.2)\n",
    "plt.plot(x, elliprc(x, 0.2), '-', alpha=0.5, linewidth=5)\n",
    "plt.plot(x, rc(x, 0.2), 'k--')\n",
    "\n",
    "plt.figure()\n",
    "x = np.linspace(0, 2, 100)\n",
    "plt.plot(kc, elliprc(0.1, x), '-', alpha=0.5, linewidth=5)\n",
    "plt.plot(kc, rc(0.1, x), 'k--')"
   ]
  },
  {
   "cell_type": "code",
   "execution_count": null,
   "id": "49055d7f-5af2-4f29-9798-27f050fd1cbe",
   "metadata": {},
   "outputs": [],
   "source": [
    "x = np.linspace(-5, 5, 100)\n",
    "plt.plot(x, elliprd(x, 0.2, 0.1), '-', alpha=0.5, linewidth=5)\n",
    "plt.plot(x, rd(x, 0.2, 0.1), 'k--')\n",
    "\n",
    "plt.figure()\n",
    "x = np.linspace(0, 2, 100)\n",
    "plt.plot(kc, elliprd(0.1, x, 0.1), '-', alpha=0.5, linewidth=5)\n",
    "plt.plot(kc, rd(0.1, x, 0.1), 'k--')"
   ]
  },
  {
   "cell_type": "code",
   "execution_count": null,
   "id": "ec674761-7d0b-47e8-bc7c-752f203882e9",
   "metadata": {},
   "outputs": [],
   "source": [
    "x = np.linspace(-5, 5, 100)\n",
    "plt.plot(x, elliprf(x, 0.2, 0.1), '-', alpha=0.5, linewidth=5)\n",
    "plt.plot(x, rf(x, 0.2, 0.1), 'k--')\n",
    "\n",
    "plt.figure()\n",
    "x = np.linspace(0, 2, 100)\n",
    "plt.plot(kc, elliprf(0.1, x, 0.1), '-', alpha=0.5, linewidth=5)\n",
    "plt.plot(kc, rf(0.1, x, 0.1), 'k--')"
   ]
  },
  {
   "cell_type": "code",
   "execution_count": null,
   "id": "3937c36a-9912-489e-aaba-7811e0c9b506",
   "metadata": {},
   "outputs": [],
   "source": [
    "x = np.linspace(-5, 5, 100)\n",
    "plt.plot(x, elliprj(x, 0.2, 0.1, 0.5), '-', alpha=0.5, linewidth=5)\n",
    "plt.plot(x, rj(x, 0.2, 0.1, 0.5), 'k--')\n",
    "\n",
    "plt.figure()\n",
    "x = np.linspace(0, 2, 100)\n",
    "plt.plot(kc, elliprj(0.1, x, 0.1, 0.5), '-', alpha=0.5, linewidth=5)\n",
    "plt.plot(kc, rj(0.1, x, 0.1, 0.5), 'k--')"
   ]
  },
  {
   "cell_type": "code",
   "execution_count": null,
   "id": "5a4d6b45-be77-4f41-8aee-ea2ab5267ac6",
   "metadata": {},
   "outputs": [],
   "source": [
    "jax.grad(el2, (0, 1, 2, 3))(0.5, 0.1, 0.5, 0.4)"
   ]
  },
  {
   "cell_type": "code",
   "execution_count": 2,
   "id": "e609e9c3-a751-4957-af0f-17656e9a08d2",
   "metadata": {},
   "outputs": [],
   "source": [
    "@jax.jit \n",
    "@jnp.vectorize\n",
    "def el2_n(x, kc, a, b):\n",
    "    r\"\"\"JAX implementation of Bulirsch's el2 integral\n",
    "\n",
    "    Computed using the algorithm in Bulirsch, 1969b: https://doi.org/10.1007/BF02165405 \n",
    "\n",
    "    .. math::\n",
    "\n",
    "       \\[\\operatorname{el2}\\left(x,k_{c},a,b\\right)=\\int_{0}^{\\operatorname{arctan}x}%\n",
    "\\frac{a+b{\\tan}^{2}\\theta}{\\sqrt{(1+{\\tan}^{2}\\theta)(1+k_{c}^{2}{\\tan}^{2}%\n",
    "\\theta)}}\\,\\mathrm{d}\\theta.\\]\n",
    "\n",
    "     Args:\n",
    "       x: arraylike, real valued.\n",
    "       kc: arraylike, real valued.\n",
    "       a: arraylike, real valued.\n",
    "       b: arraylike, real valued.\n",
    "\n",
    "     Returns:\n",
    "       The value of the integral el2\n",
    "\n",
    "     Notes:\n",
    "       ``el2`` does not support complex-valued inputs.\n",
    "       ``el2`` requires `jax.config.update(\"jax_enable_x64\", True)`\n",
    "    \"\"\"\n",
    "\n",
    "    D = 15.0\n",
    "    ca = 10**(-D / 2.0)\n",
    "    cb = 10**(-D + 2.0)\n",
    "\n",
    "    c = x**2\n",
    "    dd = c + 1.0\n",
    "    p = jnp.sqrt((1.0 + kc**2 * c) / dd)\n",
    "    dd = x / dd\n",
    "    c = dd * 0.5 / p\n",
    "    z = a - b\n",
    "    ik = a\n",
    "    a = (b + a) * 0.5\n",
    "    y = jnp.abs(1 / x)\n",
    "    f = 0.0\n",
    "    kc = jnp.abs(kc)\n",
    "    m = 1.0\n",
    "\n",
    "    def cont():\n",
    "\n",
    "        s = {\n",
    "            'l': 0.0,\n",
    "            'b': ik * kc + b,\n",
    "            'e': m * kc,\n",
    "            'g': m * kc / p,\n",
    "            'dd': f * m * kc / p + dd,\n",
    "            'f': c,\n",
    "            'ik': a,\n",
    "            'p': m * kc / p + p,\n",
    "            'c': ((f * m * kc / p + dd) / (m * kc / p + p) + c) * 0.5,\n",
    "            'g': m,\n",
    "            'm': kc + m,\n",
    "            'a': ((ik * kc + b) / (kc + m) + a) * 0.5,\n",
    "            'y': - (m * kc / y) + y,\n",
    "            'kc': kc\n",
    "        }\n",
    "        \n",
    "        s['y'] = jax.lax.cond(\n",
    "            s['y'] == 0, \n",
    "            lambda: jnp.sqrt(s['e']) * cb, \n",
    "            lambda: s['y']\n",
    "        )\n",
    "\n",
    "        def cond_fun(s):\n",
    "            \n",
    "            return jnp.abs(s['g'] - s['kc']) > ca * s['g']\n",
    "\n",
    "        def body_fun(s):\n",
    "\n",
    "            s['kc'] = 2 * jnp.sqrt(s['e'])\n",
    "            s['l'] = 2 * s['l']\n",
    "            s['l'] = s['l'] + (s['y'] < 0)\n",
    "\n",
    "            s['b'] = s['ik'] * s['kc'] + s['b']\n",
    "            s['e'] = s['m'] * s['kc']\n",
    "            s['g'] = s['e'] / s['p']\n",
    "            s['dd'] = s['f'] * s['g'] + s['dd']\n",
    "            s['f'] = s['c']\n",
    "            s['ik'] = s['a']\n",
    "            s['p'] = s['g'] + s['p']\n",
    "            s['c'] = (s['dd'] / s['p'] + s['c']) * 0.5\n",
    "            s['g'] = s['m']\n",
    "            s['m'] = s['kc'] + s['m']\n",
    "            s['a'] = (s['b'] / s['m'] + s['a']) * 0.5\n",
    "            s['y'] = - (s['e'] / s['y']) + s['y']\n",
    "            s['y'] = jax.lax.cond(\n",
    "                s['y'] == 0, \n",
    "                lambda: jnp.sqrt(s['e']) * cb, \n",
    "                lambda: s['y']\n",
    "            )\n",
    "\n",
    "            return s\n",
    "\n",
    "        s = jax.lax.while_loop(cond_fun, body_fun, s)\n",
    "        s['l'] = s['l'] + (s['y'] < 0)\n",
    "        s['e'] = (jnp.arctan(s['m'] / s['y']) + jnp.pi * s['l']) * s['a'] / s['m']\n",
    "        # this line is slightly different from the algorithm in gefera (see ellip.f90 line 127)\n",
    "        # but it matches the numerical integral... \n",
    "        s['e'] = -(2 * (x < 0) - 1) * s['e'] + s['c'] * z\n",
    "\n",
    "        return s['e']\n",
    "\n",
    "    e = jax.lax.cond(\n",
    "        kc == 0, \n",
    "        lambda: jnp.sin(jnp.arctan(x)), \n",
    "        cont\n",
    "    )\n",
    "\n",
    "    return e"
   ]
  },
  {
   "cell_type": "code",
   "execution_count": 3,
   "id": "2297edec-c846-4aaa-a9c1-e1bc726708be",
   "metadata": {},
   "outputs": [
    {
     "data": {
      "text/plain": [
       "(Array(0.4287894, dtype=float64, weak_type=True),\n",
       " Array(4.10643656, dtype=float64, weak_type=True),\n",
       " Array(0.44704379, dtype=float64, weak_type=True),\n",
       " Array(0.03397374, dtype=float64, weak_type=True))"
      ]
     },
     "execution_count": 3,
     "metadata": {},
     "output_type": "execute_result"
    }
   ],
   "source": [
    "jax.jacfwd(el2, (0, 1, 2, 3))(0.5, 0.1, 0.5, 0.4)"
   ]
  },
  {
   "cell_type": "code",
   "execution_count": 4,
   "id": "0793fcdf-66e2-4082-9f7c-3ef59a3713f3",
   "metadata": {},
   "outputs": [
    {
     "data": {
      "text/plain": [
       "(Array(0.4287894, dtype=float64, weak_type=True),\n",
       " Array(-0.0018919, dtype=float64, weak_type=True),\n",
       " Array(0.44704379, dtype=float64, weak_type=True),\n",
       " Array(0.03397374, dtype=float64, weak_type=True))"
      ]
     },
     "execution_count": 4,
     "metadata": {},
     "output_type": "execute_result"
    }
   ],
   "source": [
    "jax.jacfwd(el2_n, (0, 1, 2, 3))(0.5, 0.1, 0.5, 0.4)"
   ]
  },
  {
   "cell_type": "code",
   "execution_count": null,
   "id": "e03a3ffc-0c61-4380-9bca-c301d50bf1bc",
   "metadata": {},
   "outputs": [],
   "source": []
  }
 ],
 "metadata": {
  "kernelspec": {
   "display_name": "Python 3 (ipykernel)",
   "language": "python",
   "name": "python3"
  },
  "language_info": {
   "codemirror_mode": {
    "name": "ipython",
    "version": 3
   },
   "file_extension": ".py",
   "mimetype": "text/x-python",
   "name": "python",
   "nbconvert_exporter": "python",
   "pygments_lexer": "ipython3",
   "version": "3.11.6"
  }
 },
 "nbformat": 4,
 "nbformat_minor": 5
}
