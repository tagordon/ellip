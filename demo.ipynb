{
 "cells": [
  {
   "cell_type": "code",
   "execution_count": 1,
   "id": "b0707006-9754-47e7-b3de-33bf8a2268ba",
   "metadata": {},
   "outputs": [],
   "source": [
    "import jax\n",
    "jax.config.update(\"jax_enable_x64\", True)\n",
    "#from bulirsch_fast import *\n",
    "from bulirsch import *\n",
    "from scipy.special import ellipe, ellipk\n",
    "import matplotlib.pyplot as plt\n",
    "import numpy as np\n",
    "from scipy.integrate import quad"
   ]
  },
  {
   "cell_type": "code",
   "execution_count": null,
   "id": "bf76a612-189a-4f54-a93a-dc5f44708bf9",
   "metadata": {},
   "outputs": [],
   "source": [
    "x = np.linspace(-5, 5, 1000)\n",
    "kc = 0.2\n",
    "a = 1.2\n",
    "b = 3.0\n",
    "p = 2.0\n",
    "\n",
    "#%timeit el1(x, kc)\n",
    "#%timeit el1_fast(x, kc)"
   ]
  },
  {
   "cell_type": "code",
   "execution_count": null,
   "id": "49e78b19-d51d-4378-8303-4db31270b95f",
   "metadata": {},
   "outputs": [],
   "source": [
    "%timeit jax.vmap(jax.grad(el1), in_axes=(0, None))(x, kc)\n",
    "%timeit jax.vmap(jax.grad(el1_fast), in_axes=(0, None))(x, kc)"
   ]
  },
  {
   "cell_type": "code",
   "execution_count": null,
   "id": "16c4f80a-e08d-4e5e-a779-69311851fd8e",
   "metadata": {},
   "outputs": [],
   "source": [
    "kc = jnp.linspace(0.0, 10, 2)\n",
    "kc\n",
    "el1(0.0, jnp.array([0.0, 0.1]))"
   ]
  },
  {
   "cell_type": "code",
   "execution_count": null,
   "id": "fdd6131b-bca7-4866-8555-aa2a7935a043",
   "metadata": {},
   "outputs": [],
   "source": [
    "x = np.linspace(-10, 10, 10)\n",
    "kc = np.linspace(0.0, 10, 10)\n",
    "el1(0.0, kc)"
   ]
  },
  {
   "cell_type": "code",
   "execution_count": null,
   "id": "d14fa2e0-6929-46fa-a6c9-a576c3fedc6d",
   "metadata": {},
   "outputs": [],
   "source": [
    "x = np.linspace(-10, 10, 500)\n",
    "kc = np.linspace(0.0, 1, 500)\n",
    "coords = np.meshgrid(x, kc)\n",
    "#plt.imshow(el1_fast(x, kc))\n",
    "el1_vals = el1(coords[0].flatten(), coords[1].flatten()).reshape(500, 500)\n",
    "plt.imshow(el1_vals, cmap=plt.cm.magma)\n",
    "plt.colorbar()"
   ]
  },
  {
   "cell_type": "code",
   "execution_count": null,
   "id": "9d8451a4-5104-4c0f-b338-f48ef3fb81b4",
   "metadata": {},
   "outputs": [],
   "source": [
    "#n = 1 - p\n",
    "#k2 = 0.9**2\n",
    "#kc = np.sqrt(1 - k2)\n",
    "kc = 2.9\n",
    "#n = k2\n",
    "n = 1.4\n",
    "\n",
    "p = 1 - n\n",
    "x = jnp.tan(jnp.pi / 3)"
   ]
  },
  {
   "cell_type": "code",
   "execution_count": null,
   "id": "1c8b8681-fe3d-44cf-bf08-2972c08d9fb0",
   "metadata": {},
   "outputs": [],
   "source": [
    "jax.jacfwd(el3, (0, 1, 2))(x, kc, p)"
   ]
  },
  {
   "cell_type": "code",
   "execution_count": null,
   "id": "9c3e91a6-b732-4830-978e-0b12d0242131",
   "metadata": {},
   "outputs": [],
   "source": [
    "(el3(x + 1e-8, kc, p) - el3(x, kc, p)) / 1e-8"
   ]
  },
  {
   "cell_type": "code",
   "execution_count": 132,
   "id": "36eb1a1c-7a66-4555-a6bf-f8f5474abb0f",
   "metadata": {},
   "outputs": [],
   "source": [
    "from scipy.integrate import romberg\n",
    "\n",
    "@np.vectorize\n",
    "def el3_numerical(x, kc, p):\n",
    "\n",
    "    func = lambda y: (\n",
    "        1 / (np.cos(y)**2 + p * np.sin(y)**2) \n",
    "        / np.sqrt(np.cos(y)**2 + kc * kc * np.sin(y)**2)\n",
    "    )\n",
    "\n",
    "    return romberg(func, 0, np.arctan(x), tol=1e-12)\n",
    "        "
   ]
  },
  {
   "cell_type": "code",
   "execution_count": 133,
   "id": "a2a37977-e3ce-41fa-aded-0e5e16235ed8",
   "metadata": {},
   "outputs": [
    {
     "name": "stdout",
     "output_type": "stream",
     "text": [
      "Help on function romberg in module scipy.integrate._quadrature:\n",
      "\n",
      "romberg(function, a, b, args=(), tol=1.48e-08, rtol=1.48e-08, show=False, divmax=10, vec_func=False)\n",
      "    Romberg integration of a callable function or method.\n",
      "    \n",
      "    .. deprecated:: 1.12.0\n",
      "    \n",
      "          This function is deprecated as of SciPy 1.12.0 and will be removed\n",
      "          in SciPy 1.15.0. Please use `scipy.integrate.quad` instead.\n",
      "    \n",
      "    Returns the integral of `function` (a function of one variable)\n",
      "    over the interval (`a`, `b`).\n",
      "    \n",
      "    If `show` is 1, the triangular array of the intermediate results\n",
      "    will be printed. If `vec_func` is True (default is False), then\n",
      "    `function` is assumed to support vector arguments.\n",
      "    \n",
      "    Parameters\n",
      "    ----------\n",
      "    function : callable\n",
      "        Function to be integrated.\n",
      "    a : float\n",
      "        Lower limit of integration.\n",
      "    b : float\n",
      "        Upper limit of integration.\n",
      "    \n",
      "    Returns\n",
      "    -------\n",
      "    results : float\n",
      "        Result of the integration.\n",
      "    \n",
      "    Other Parameters\n",
      "    ----------------\n",
      "    args : tuple, optional\n",
      "        Extra arguments to pass to function. Each element of `args` will\n",
      "        be passed as a single argument to `func`. Default is to pass no\n",
      "        extra arguments.\n",
      "    tol, rtol : float, optional\n",
      "        The desired absolute and relative tolerances. Defaults are 1.48e-8.\n",
      "    show : bool, optional\n",
      "        Whether to print the results. Default is False.\n",
      "    divmax : int, optional\n",
      "        Maximum order of extrapolation. Default is 10.\n",
      "    vec_func : bool, optional\n",
      "        Whether `func` handles arrays as arguments (i.e., whether it is a\n",
      "        \"vector\" function). Default is False.\n",
      "    \n",
      "    See Also\n",
      "    --------\n",
      "    fixed_quad : Fixed-order Gaussian quadrature.\n",
      "    quad : Adaptive quadrature using QUADPACK.\n",
      "    dblquad : Double integrals.\n",
      "    tplquad : Triple integrals.\n",
      "    romb : Integrators for sampled data.\n",
      "    simpson : Integrators for sampled data.\n",
      "    cumulative_trapezoid : Cumulative integration for sampled data.\n",
      "    ode : ODE integrator.\n",
      "    odeint : ODE integrator.\n",
      "    \n",
      "    References\n",
      "    ----------\n",
      "    .. [1] 'Romberg's method' https://en.wikipedia.org/wiki/Romberg%27s_method\n",
      "    \n",
      "    Examples\n",
      "    --------\n",
      "    Integrate a gaussian from 0 to 1 and compare to the error function.\n",
      "    \n",
      "    >>> from scipy import integrate\n",
      "    >>> from scipy.special import erf\n",
      "    >>> import numpy as np\n",
      "    >>> gaussian = lambda x: 1/np.sqrt(np.pi) * np.exp(-x**2)\n",
      "    >>> result = integrate.romberg(gaussian, 0, 1, show=True)\n",
      "    Romberg integration of <function vfunc at ...> from [0, 1]\n",
      "    \n",
      "    ::\n",
      "    \n",
      "       Steps  StepSize  Results\n",
      "           1  1.000000  0.385872\n",
      "           2  0.500000  0.412631  0.421551\n",
      "           4  0.250000  0.419184  0.421368  0.421356\n",
      "           8  0.125000  0.420810  0.421352  0.421350  0.421350\n",
      "          16  0.062500  0.421215  0.421350  0.421350  0.421350  0.421350\n",
      "          32  0.031250  0.421317  0.421350  0.421350  0.421350  0.421350  0.421350\n",
      "    \n",
      "    The final result is 0.421350396475 after 33 function evaluations.\n",
      "    \n",
      "    >>> print(\"%g %g\" % (2*result, erf(1)))\n",
      "    0.842701 0.842701\n",
      "\n"
     ]
    }
   ],
   "source": [
    "help(romberg)"
   ]
  },
  {
   "cell_type": "code",
   "execution_count": 138,
   "id": "08115760-72d5-4dff-9ec1-3ee3e6c2a308",
   "metadata": {},
   "outputs": [
    {
     "data": {
      "text/plain": [
       "<matplotlib.lines.Line2D at 0x2b3fd6d10>"
      ]
     },
     "execution_count": 138,
     "metadata": {},
     "output_type": "execute_result"
    },
    {
     "data": {
      "image/png": "[encoded data removed]",
      "text/plain": [
       "<Figure size 640x480 with 1 Axes>"
      ]
     },
     "metadata": {},
     "output_type": "display_data"
    }
   ],
   "source": [
    "p = np.linspace(-100, 10, 10000)\n",
    "kc = 3.0\n",
    "x = jnp.tan(jnp.pi / 4)\n",
    "plt.plot(p, el3(x, kc, p))\n",
    "#plt.ylim(0, 2)\n",
    "\n",
    "kc = 0.0\n",
    "x = jnp.tan(jnp.pi / 4)\n",
    "plt.plot(p, el3(x, kc, p))\n",
    "#plt.ylim(0, 10)\n",
    "plt.axvline(-1/jnp.tan(jnp.pi / 4)**2)\n",
    "plt.plot(p, 1 + p * x**2)\n",
    "plt.axhline(0)"
   ]
  },
  {
   "cell_type": "code",
   "execution_count": null,
   "id": "ed62d5ad-82e1-40a7-b8f6-4132730f8b68",
   "metadata": {},
   "outputs": [],
   "source": [
    "%timeit jax.vmap(jax.grad(el1), in_axes=(0, None))(x, kc)\n",
    "%timeit jax.vmap(jax.grad(el1_fast), in_axes=(0, None))(x, kc)"
   ]
  },
  {
   "cell_type": "code",
   "execution_count": null,
   "id": "1497fb69-9452-45d5-b270-9d0a837464ae",
   "metadata": {},
   "outputs": [],
   "source": [
    "def el1_numerical(x, kc):\n",
    "\n",
    "    func = lambda y: np.sqrt(1 / (np.cos(y)**2 + kc**2 * np.sin(y)**2))\n",
    "    return quad(func, 0, np.arctan(x))[0]\n",
    "\n",
    "x = np.linspace(-5, 5, 100)\n",
    "plt.plot(x, np.vectorize(el1_numerical)(x, 0.2), '-', alpha=0.5, linewidth=5)\n",
    "plt.plot(x, el1(x, 0.2), 'k--')\n",
    "\n",
    "plt.figure()\n",
    "kc = np.linspace(0.01, 2, 100)\n",
    "plt.plot(x, np.vectorize(el1_numerical)(0.1, kc), '-', alpha=0.5, linewidth=5)\n",
    "plt.plot(x, el1(0.1, kc), 'k--')"
   ]
  },
  {
   "cell_type": "code",
   "execution_count": null,
   "id": "105ef545-334d-427f-b22f-79203de7253b",
   "metadata": {},
   "outputs": [],
   "source": [
    "def el2_numerical(x, kc, a, b):\n",
    "\n",
    "    func = lambda y: ((a + b * np.tan(y)**2) \n",
    "                      / jnp.sqrt(\n",
    "                          (1 + np.tan(y)**2) \n",
    "                          * (1 + kc**2 * np.tan(y)**2)\n",
    "                      )\n",
    "                     )\n",
    "    \n",
    "    return quad(func, 0, np.arctan(x))[0]\n",
    "\n",
    "x = np.linspace(-5, 5, 100)\n",
    "plt.plot(x, np.vectorize(el2_numerical)(x, 0.2, 0.1, 0.5), '-', alpha=0.5, linewidth=5)\n",
    "plt.plot(x, el2(x, 0.2, 0.1, 0.5), 'k--')\n",
    "\n",
    "plt.figure()\n",
    "kc = np.linspace(0.01, 2, 100)\n",
    "plt.plot(x, np.vectorize(el2_numerical)(0.1, kc, 0.1, 0.5), '-', alpha=0.5, linewidth=5)\n",
    "plt.plot(x, el2(0.1, kc, 0.1, 0.5), 'k--')"
   ]
  },
  {
   "cell_type": "code",
   "execution_count": null,
   "id": "fd024714-5ddd-4835-8136-158b61032264",
   "metadata": {},
   "outputs": [],
   "source": [
    "def el3_numerical(x, kc, p):\n",
    "\n",
    "    func = lambda y: (\n",
    "        1 / (np.cos(y)**2 + p * np.sin(y)**2) \n",
    "        / np.sqrt(np.cos(y)**2 + kc * kc * np.sin(y)**2)\n",
    "    )\n",
    "    \n",
    "    return quad(func, 0, np.arctan(x))[0]\n",
    "\n",
    "x = np.linspace(-5, 5, 100)\n",
    "plt.plot(x, np.vectorize(el3_numerical)(x, 0.2, 0.1), '-', alpha=0.5, linewidth=5)\n",
    "plt.plot(x, el3(x, 0.2, 0.1), 'k--')\n",
    "\n",
    "plt.figure()\n",
    "kc = np.linspace(0.01, 2, 100)\n",
    "plt.plot(x, np.vectorize(el3_numerical)(0.1, kc, 0.1), '-', alpha=0.5, linewidth=5)\n",
    "plt.plot(x, el3(0.1, kc, 0.1), 'k--')"
   ]
  },
  {
   "cell_type": "code",
   "execution_count": null,
   "id": "85f1581a-5f66-43f6-ad64-b4016966db62",
   "metadata": {},
   "outputs": [],
   "source": [
    "def cel_numerical(kc, p, a, b):\n",
    "\n",
    "    func = lambda y: (\n",
    "        (a * np.cos(y)**2 + b * np.sin(y)**2) / (np.cos(y)**2 + p * np.sin(y)**2)\n",
    "        / np.sqrt(np.cos(y)**2 + kc**2 * np.sin(y)**2)\n",
    "    )\n",
    "\n",
    "    return quad(func, 0, np.pi / 2)[0]\n",
    "\n",
    "x = np.linspace(-5, 5, 100)\n",
    "plt.plot(x, np.vectorize(cel_numerical)(x, 0.2, 0.1, 0.5), '-', alpha=0.5, linewidth=5)\n",
    "plt.plot(x, cel(x, 0.2, 0.1, 0.5), 'k--')\n",
    "\n",
    "plt.figure()\n",
    "kc = np.linspace(0, 2, 100)\n",
    "plt.plot(kc, np.vectorize(cel_numerical)(0.1, kc, 0.1, 0.5), '-', alpha=0.5, linewidth=5)\n",
    "plt.plot(kc, cel(0.1, kc, 0.1, 0.5), 'k--')"
   ]
  },
  {
   "cell_type": "code",
   "execution_count": null,
   "id": "ea885907-e9c0-4539-a6c8-9215c22a5a2e",
   "metadata": {},
   "outputs": [],
   "source": [
    "x = np.linspace(-5, 5, 5000)\n",
    "%timeit elliprc(x, 0.2)\n",
    "rc(x, 0.2)\n",
    "%timeit rc(x, 0.2)\n",
    "plt.plot(x, elliprc(x, 0.2), '-', alpha=0.5, linewidth=5)\n",
    "plt.plot(x, rc(x, 0.2), 'k--')\n",
    "\n",
    "plt.figure()\n",
    "x = np.linspace(0, 2, 100)\n",
    "plt.plot(kc, elliprc(0.1, x), '-', alpha=0.5, linewidth=5)\n",
    "plt.plot(kc, rc(0.1, x), 'k--')"
   ]
  },
  {
   "cell_type": "code",
   "execution_count": null,
   "id": "49055d7f-5af2-4f29-9798-27f050fd1cbe",
   "metadata": {},
   "outputs": [],
   "source": [
    "x = np.linspace(-5, 5, 100)\n",
    "plt.plot(x, elliprd(x, 0.2, 0.1), '-', alpha=0.5, linewidth=5)\n",
    "plt.plot(x, rd(x, 0.2, 0.1), 'k--')\n",
    "\n",
    "plt.figure()\n",
    "x = np.linspace(0, 2, 100)\n",
    "plt.plot(kc, elliprd(0.1, x, 0.1), '-', alpha=0.5, linewidth=5)\n",
    "plt.plot(kc, rd(0.1, x, 0.1), 'k--')"
   ]
  },
  {
   "cell_type": "code",
   "execution_count": null,
   "id": "ec674761-7d0b-47e8-bc7c-752f203882e9",
   "metadata": {},
   "outputs": [],
   "source": [
    "x = np.linspace(-5, 5, 100)\n",
    "plt.plot(x, elliprf(x, 0.2, 0.1), '-', alpha=0.5, linewidth=5)\n",
    "plt.plot(x, rf(x, 0.2, 0.1), 'k--')\n",
    "\n",
    "plt.figure()\n",
    "x = np.linspace(0, 2, 100)\n",
    "plt.plot(kc, elliprf(0.1, x, 0.1), '-', alpha=0.5, linewidth=5)\n",
    "plt.plot(kc, rf(0.1, x, 0.1), 'k--')"
   ]
  },
  {
   "cell_type": "code",
   "execution_count": null,
   "id": "3937c36a-9912-489e-aaba-7811e0c9b506",
   "metadata": {},
   "outputs": [],
   "source": [
    "x = np.linspace(-5, 5, 100)\n",
    "plt.plot(x, elliprj(x, 0.2, 0.1, 0.5), '-', alpha=0.5, linewidth=5)\n",
    "plt.plot(x, rj(x, 0.2, 0.1, 0.5), 'k--')\n",
    "\n",
    "plt.figure()\n",
    "x = np.linspace(0, 2, 100)\n",
    "plt.plot(kc, elliprj(0.1, x, 0.1, 0.5), '-', alpha=0.5, linewidth=5)\n",
    "plt.plot(kc, rj(0.1, x, 0.1, 0.5), 'k--')"
   ]
  },
  {
   "cell_type": "code",
   "execution_count": null,
   "id": "2297edec-c846-4aaa-a9c1-e1bc726708be",
   "metadata": {},
   "outputs": [],
   "source": [
    "x = 1.0\n",
    "kc = 0.2\n",
    "p = 0.1\n",
    "\n",
    "print((el3(x + 1e-6, kc, p) - el3(x, kc, p)) / 1e-6)\n",
    "print((el3(x, kc + 1e-6, p) - el3(x, kc, p)) / 1e-6)\n",
    "print((el3(x, kc, p + 1e-6) - el3(x, kc, p)) / 1e-6)\n",
    "\n",
    "jax.jacfwd(el3, (0, 1, 2))(x, kc, p)"
   ]
  },
  {
   "cell_type": "code",
   "execution_count": null,
   "id": "abb73e40-97ac-4ccc-b24f-829798f961dd",
   "metadata": {},
   "outputs": [],
   "source": [
    "kc = 1.0\n",
    "p = 1.0\n",
    "a = 1.3\n",
    "b = 2.0\n",
    "x = 2.3\n",
    "\n",
    "d = 1e-12\n",
    "\n",
    "print((cel(kc + d, p, a, b) - cel(kc, p, a, b)) / d)\n",
    "print((cel(kc, p + d, a, b) - cel(kc, p, a, b)) / d)\n",
    "print((cel(kc, p, a + d, b) - cel(kc, p, a, b)) / d)\n",
    "print((cel(kc, p, a, b + d) - cel(kc, p, a, b)) / d)\n",
    "\n",
    "fwd_cel = jax.jacfwd(cel, (0, 1, 2, 3))\n",
    "fwd_el3 = jax.jacfwd(el3, (0, 1, 2))\n",
    "#%timeit fwd_cel(kc, p, a, b)\n",
    "%timeit el3(x, kc, p)"
   ]
  },
  {
   "cell_type": "code",
   "execution_count": null,
   "id": "88eb3cbf-e962-498a-ab9c-483f05132211",
   "metadata": {},
   "outputs": [],
   "source": [
    "ap = (a - b) * (kc**2 - 1)\n",
    "bp = - ((kc**2 - 1) * (-3 * b + (a + 2 * b) * kc**2))\n",
    "cel(kc, 1.0, ap, bp) / (3 * (kc**2 - 1)**2)"
   ]
  },
  {
   "cell_type": "code",
   "execution_count": null,
   "id": "95d48868-c4d5-4405-93c3-7c408c83d0b2",
   "metadata": {},
   "outputs": [],
   "source": [
    "ap = 4 * (kc**2 - 1) * (2 * b + (a - 3 * b) * kc**2)\n",
    "bp = 4 * kc**2 * (kc**2 - 1) * (b - a * kc**2)\n",
    "fac = 1 / (12 * kc**4 * (1 - kc ** 2)* (-1 + kc**2))\n",
    "fac * cel(kc, 1.0, ap, bp)"
   ]
  },
  {
   "cell_type": "code",
   "execution_count": null,
   "id": "6933d1b7-5d21-4355-88c6-3ff63a8d3298",
   "metadata": {},
   "outputs": [],
   "source": [
    "-kc / (1 - kc * kc) * (cel(kc, kc**2, b / kc**2, a) - cel(kc, 1.0, b / kc**2, a))"
   ]
  },
  {
   "cell_type": "code",
   "execution_count": null,
   "id": "325cf216-c8cd-47ef-95cf-1d66fa8b1dea",
   "metadata": {},
   "outputs": [],
   "source": [
    "Eterm = ellipe(jnp.sqrt(1 - kc**2)) * (-b + a * kc * kc) / (kc * kc * (kc * kc - 1))\n",
    "Fterm = (b - a) * ellipk(1 - kc**2) / (kc**2 - 1)\n",
    "print(Eterm)"
   ]
  },
  {
   "cell_type": "code",
   "execution_count": null,
   "id": "de64c0ad-b28a-429a-a530-1942ddf54c9b",
   "metadata": {},
   "outputs": [],
   "source": [
    "ellipe(jnp.sqrt(1 - kc**2))"
   ]
  },
  {
   "cell_type": "code",
   "execution_count": null,
   "id": "c982b8ca-7613-462d-8ca1-647c90d7f291",
   "metadata": {},
   "outputs": [],
   "source": [
    "from scipy.special import ellipe as ellipe_np\n",
    "ellipe_np(1 - kc**2)"
   ]
  },
  {
   "cell_type": "code",
   "execution_count": null,
   "id": "2881c421-2b8d-4a4b-bcb7-0c95f6dff533",
   "metadata": {},
   "outputs": [],
   "source": [
    "from legendre import ellippi, ellipk\n",
    "kc, p, a, b = 1.0, 1.0, 1.0, 1.0\n",
    "\n",
    "print((cel(kc, p, a, b + 1e-6) - cel(kc, p, a, b)) / 1e-6)\n",
    "\n",
    "n = p - 1.0\n",
    "k = jnp.sqrt(1 - kc * kc)\n",
    "ellipk(k) / n - cel(kc, p, 1.0, 1.0) / n"
   ]
  },
  {
   "cell_type": "code",
   "execution_count": null,
   "id": "35882b6a-abc6-494e-9df4-1d3fb694c474",
   "metadata": {},
   "outputs": [],
   "source": [
    "from legendre import *\n",
    "ellipe(1 - kc**2)"
   ]
  },
  {
   "cell_type": "code",
   "execution_count": null,
   "id": "2443fcb5-7284-4f0c-924c-9f16985d0f63",
   "metadata": {},
   "outputs": [],
   "source": [
    "kc, p, a, b = 0.5, 1.0, 1.0, 1.0\n",
    "n = p - 1.0\n",
    "k = jnp.sqrt(1 - kc * kc)\n",
    "\n",
    "print((cel(kc, p, a, b + 1e-6) - cel(kc, p, a, b)) / 1e-6)\n",
    "cel(kc, p, 0.0, 1.0)"
   ]
  },
  {
   "cell_type": "code",
   "execution_count": null,
   "id": "a49d1d20-e061-4e8a-8010-940c0d47f1c6",
   "metadata": {},
   "outputs": [],
   "source": [
    "kc, p, a, b = 0.5, 1.0, 1.0, 1.0\n",
    "n = p - 1.0\n",
    "k = jnp.sqrt(1 - kc * kc)\n",
    "\n",
    "print((cel(kc, p, a + 1e-6, b) - cel(kc, p, a, b)) / 1e-6)\n",
    "cel(kc, p, 1.0, 0.0)"
   ]
  },
  {
   "cell_type": "code",
   "execution_count": null,
   "id": "f6274963-e334-40e4-bbe7-6c745db0fa4e",
   "metadata": {},
   "outputs": [],
   "source": [
    "kc, p, a, b = 0.5, 1.01, 1.0, 1.0\n",
    "n = p - 1.0\n",
    "k = jnp.sqrt(1 - kc * kc)\n",
    "\n",
    "print((cel(kc, p + 1e-6, a, b) - cel(kc, p, a, b)) / 1e-6)\n",
    "lam = kc * kc * (b + a * p - 2 * b * p) + p * (3 * b * p - a * p**2 - 2*b)\n",
    "dp = cel(kc, p, 0.0, lam) + (b - a * p) * cel(kc, 1.0, 1.0 - p, kc * kc - p)\n",
    "dp /= 2 * p * (1 - p) * (p - kc * kc)\n",
    "dp"
   ]
  },
  {
   "cell_type": "code",
   "execution_count": null,
   "id": "d0dbdfa6-f59b-4a64-8855-34953706d161",
   "metadata": {},
   "outputs": [],
   "source": [
    "parr = np.linspace(0.1, 2, 1000)\n",
    "plt.plot(parr, cel(kc, parr, 1.0, 1.0))"
   ]
  },
  {
   "cell_type": "code",
   "execution_count": null,
   "id": "d94bc666-025d-4b86-830b-bbbef196d39d",
   "metadata": {},
   "outputs": [],
   "source": [
    "cel(kc, p, 0.0, lam)"
   ]
  },
  {
   "cell_type": "code",
   "execution_count": null,
   "id": "0936662f-72ee-458e-923b-cb3d95ff2656",
   "metadata": {},
   "outputs": [],
   "source": [
    "cel(kc, p, 0.0, 1.0) * lam"
   ]
  },
  {
   "cell_type": "code",
   "execution_count": null,
   "id": "7505ce70-fcbe-4223-bb28-8c92b9725703",
   "metadata": {},
   "outputs": [],
   "source": [
    "cel(kc, p, lam, 0.0)"
   ]
  },
  {
   "cell_type": "code",
   "execution_count": null,
   "id": "3b3565ac-2c37-434d-8c8b-a99dbefffb93",
   "metadata": {},
   "outputs": [],
   "source": [
    "cel(kc, p, 1.0, 0.0) * lam"
   ]
  },
  {
   "cell_type": "code",
   "execution_count": null,
   "id": "1c56e6b7-7bca-45f4-bf4e-3ed59f1d7bff",
   "metadata": {},
   "outputs": [],
   "source": [
    "cel(kc, p, 0.0, lam) + (b - a * p) * cel(kc, 1.0, 1.0 - p, kc * kc - p)"
   ]
  },
  {
   "cell_type": "code",
   "execution_count": null,
   "id": "3f90fd4b-2861-41e0-9bb9-e4d7f2e060c1",
   "metadata": {},
   "outputs": [],
   "source": [
    "lam * cel(kc, p, 0.0, 1.0) + (b - a * p) * cel(kc, 1.0, 1.0 - p, kc * kc - p)"
   ]
  },
  {
   "cell_type": "code",
   "execution_count": null,
   "id": "c9a7d856-b5f9-4060-a9fa-9f71cc1ca646",
   "metadata": {},
   "outputs": [],
   "source": []
  }
 ],
 "metadata": {
  "kernelspec": {
   "display_name": "Python 3 (ipykernel)",
   "language": "python",
   "name": "python3"
  },
  "language_info": {
   "codemirror_mode": {
    "name": "ipython",
    "version": 3
   },
   "file_extension": ".py",
   "mimetype": "text/x-python",
   "name": "python",
   "nbconvert_exporter": "python",
   "pygments_lexer": "ipython3",
   "version": "3.11.6"
  }
 },
 "nbformat": 4,
 "nbformat_minor": 5
}
