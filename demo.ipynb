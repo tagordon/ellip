{
 "cells": [
  {
   "cell_type": "code",
   "execution_count": null,
   "id": "b0707006-9754-47e7-b3de-33bf8a2268ba",
   "metadata": {},
   "outputs": [],
   "source": [
    "import jax\n",
    "jax.config.update(\"jax_enable_x64\", True)\n",
    "from legendre import *\n",
    "from carlson import *\n",
    "\n",
    "from scipy.special import ellipe as ellipe_scipy\n",
    "from scipy.special import ellipk as ellipk_scipy\n",
    "from scipy.special import ellipkinc as ellipkinc_scipy\n",
    "from scipy.special import ellipeinc as ellipeinc_scipy\n",
    "\n",
    "from scipy.special import elliprj, elliprc, elliprd, elliprf\n",
    "\n",
    "import matplotlib.pyplot as plt\n",
    "import numpy as np\n",
    "from scipy.integrate import quad"
   ]
  },
  {
   "cell_type": "code",
   "execution_count": null,
   "id": "af274f17-9b00-45e9-9403-c0f06ed45670",
   "metadata": {},
   "outputs": [],
   "source": [
    "k = np.linspace(-1, 1, 10000)\n",
    "phi = np.pi / 3\n",
    "\n",
    "fig, axs = plt.subplots(4, 1, sharex=True, height_ratios=(3, 1, 3, 1), figsize=(10, 10))\n",
    "\n",
    "axs[0].plot(k, ellipk_scipy(k * k), color='b', linewidth='3', alpha=0.5)\n",
    "axs[0].plot(k, ellipk(k), 'k--')\n",
    "axs[1].semilogy(k, np.abs(ellipk_scipy(k * k) - ellipk(k)), color='b')\n",
    "\n",
    "axs[0].plot(k, ellipe_scipy(k * k), color='r', linewidth='3', alpha=0.5)\n",
    "axs[0].plot(k, ellipe(k), 'k--')\n",
    "axs[1].semilogy(k, np.abs(ellipe_scipy(k * k) -  ellipe(k)), color='r')\n",
    "\n",
    "k = np.linspace(-1, 1, 10000)\n",
    "phi = np.pi / 3\n",
    "\n",
    "#fig, axs = plt.subplots(2, 1, sharex=True, height_ratios=(3, 1))\n",
    "\n",
    "axs[2].plot(k, ellipkinc_scipy(phi, k * k), color='b', linewidth='3', alpha=0.5)\n",
    "axs[2].plot(k, ellipfinc(phi, k), 'k--')\n",
    "axs[3].semilogy(k, np.abs(ellipkinc_scipy(phi, k * k) - ellipfinc(phi, k)), color='b')\n",
    "\n",
    "axs[2].plot(k, ellipeinc_scipy(phi, k * k), color='r', linewidth='3', alpha=0.5)\n",
    "axs[2].plot(k, ellipeinc(phi, k), 'k--')\n",
    "axs[3].semilogy(k, np.abs(ellipeinc_scipy(phi, k * k) -  ellipeinc(phi, k)), color='r')"
   ]
  },
  {
   "cell_type": "code",
   "execution_count": null,
   "id": "a889d837-8d19-4d39-904b-d69a83f77b8d",
   "metadata": {},
   "outputs": [],
   "source": [
    "from bulirsch import * "
   ]
  },
  {
   "cell_type": "code",
   "execution_count": null,
   "id": "c1710b58-cadc-4f12-b70f-eaeb223129aa",
   "metadata": {},
   "outputs": [],
   "source": [
    "x = np.linspace(0, 10, 100)\n",
    "kc = np.linspace(0, 1, 100)\n",
    "el1(x, kc)"
   ]
  }
 ],
 "metadata": {
  "kernelspec": {
   "display_name": "Python 3 (ipykernel)",
   "language": "python",
   "name": "python3"
  },
  "language_info": {
   "codemirror_mode": {
    "name": "ipython",
    "version": 3
   },
   "file_extension": ".py",
   "mimetype": "text/x-python",
   "name": "python",
   "nbconvert_exporter": "python",
   "pygments_lexer": "ipython3",
   "version": "3.11.6"
  }
 },
 "nbformat": 4,
 "nbformat_minor": 5
}
